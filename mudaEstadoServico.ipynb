{
 "cells": [
  {
   "cell_type": "code",
   "execution_count": 113,
   "id": "2604ad5d",
   "metadata": {},
   "outputs": [
    {
     "name": "stdout",
     "output_type": "stream",
     "text": [
      "001001006000002804100107598797380000000052102000000000000000000000000000000000001690716900100020000\n",
      "Data = 20/10/2023\n",
      "Empresa = Flores\n",
      "Estado do Serviço = Fechado\n",
      "Hora = 22:08:58\n",
      "Numero do onibus = 28041\n",
      "Matricula do motorista = 0000000000\n",
      "Codigo Motorista Prodata = 0000052102\n",
      "Turno = 2\n",
      "Sentido = 000\n"
     ]
    }
   ],
   "source": [
    "def mudaEstadoServico(conteudo):\n",
    "    \n",
    "    for linha in conteudo:\n",
    "        tipoRegistro = linha[:3]\n",
    "        versaoRegistro = linha[3:6]\n",
    "        codEmpresa = linha[6:9]\n",
    "        numOnibus = linha[14:19]\n",
    "        estServico = linha[19:22]\n",
    "        data = linha[22:27]\n",
    "        hora = linha[27:32]\n",
    "        codEmpMotorista = linha[32:35]\n",
    "        codMotProdata = linha[35:45]\n",
    "        matricMotorista = linha[45:55]\n",
    "        codEmpCobrador = linha[55:58]\n",
    "        codProdCobrador = linha[58:68]\n",
    "        matricCobrador = linha[68:78]\n",
    "        codLinhaDetalhe = linha[78:82]\n",
    "        codLinhaPrincipal = linha[82:88]\n",
    "        codSecao = linha[88:91]\n",
    "        sentido = linha[91:94]\n",
    "        turno = linha[94:95]\n",
    "        assinatura = linha[95:100]\n",
    "    return mudaEstadoServico()\n"
   ]
  },
  {
   "cell_type": "code",
   "execution_count": null,
   "id": "297a7a61",
   "metadata": {},
   "outputs": [],
   "source": []
  },
  {
   "cell_type": "code",
   "execution_count": null,
   "id": "d6309236",
   "metadata": {},
   "outputs": [],
   "source": []
  }
 ],
 "metadata": {
  "kernelspec": {
   "display_name": "Python 3 (ipykernel)",
   "language": "python",
   "name": "python3"
  },
  "language_info": {
   "codemirror_mode": {
    "name": "ipython",
    "version": 3
   },
   "file_extension": ".py",
   "mimetype": "text/x-python",
   "name": "python",
   "nbconvert_exporter": "python",
   "pygments_lexer": "ipython3",
   "version": "3.11.4"
  }
 },
 "nbformat": 4,
 "nbformat_minor": 5
}
