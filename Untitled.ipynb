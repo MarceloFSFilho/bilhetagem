{
 "cells": [
  {
   "cell_type": "code",
   "execution_count": 10,
   "id": "8f39ce66",
   "metadata": {},
   "outputs": [
    {
     "name": "stdout",
     "output_type": "stream",
     "text": [
      "C:\\Users\\marcelo.francisco\\Desktop\\reader\\TG006_28005_24410_03631_006_20231120082318_45.54.txt\n"
     ]
    }
   ],
   "source": [
    "from pathlib import Path\n",
    "caminho = Path('C:/Users/marcelo.francisco/Desktop/reader/')\n",
    "pastas = caminho.iterdir()\n",
    "for i in pastas:\n",
    "    print(i)"
   ]
  },
  {
   "cell_type": "code",
   "execution_count": null,
   "id": "391e2371",
   "metadata": {},
   "outputs": [],
   "source": []
  }
 ],
 "metadata": {
  "kernelspec": {
   "display_name": "Python 3 (ipykernel)",
   "language": "python",
   "name": "python3"
  },
  "language_info": {
   "codemirror_mode": {
    "name": "ipython",
    "version": 3
   },
   "file_extension": ".py",
   "mimetype": "text/x-python",
   "name": "python",
   "nbconvert_exporter": "python",
   "pygments_lexer": "ipython3",
   "version": "3.11.4"
  }
 },
 "nbformat": 4,
 "nbformat_minor": 5
}
