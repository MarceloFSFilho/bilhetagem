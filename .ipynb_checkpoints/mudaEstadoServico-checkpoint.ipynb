{
 "cells": [
  {
   "cell_type": "code",
   "execution_count": 40,
   "id": "2604ad5d",
   "metadata": {},
   "outputs": [
    {
     "name": "stdout",
     "output_type": "stream",
     "text": [
      "001001006000002801800407596582440060000078454000004111800600000784540000041118001610716100100120000\n",
      "Data = 18/10/2023\n",
      "Empresa = Flores\n",
      "Estado do Serviço = Placa\n",
      "Hora = 16:10:44\n",
      "Numero do onibus = 28018\n",
      "Matricula do motorista = 0000041118\n",
      "Codigo Motorista Prodata = 0000078454\n",
      "Turno = 2\n",
      "Sentido = 001\n"
     ]
    }
   ],
   "source": [
    "from datetime import date, timedelta, datetime\n",
    "import time\n",
    "\n",
    "linha = input()\n",
    "\n",
    "tipoRegistro = linha[:3]\n",
    "versaoRegistro = linha[3:6]\n",
    "codEmpresa = linha[6:9]\n",
    "numOnibus = linha[14:19]\n",
    "estServico = linha[19:22]\n",
    "data = linha[22:27]\n",
    "hora = linha[27:32]\n",
    "codEmpMotorista = linha[32:35]\n",
    "codMotProdata = linha[35:45]\n",
    "matricMotorista = linha[45:55]\n",
    "codEmpCobrador = linha[55:58]\n",
    "codProdCobrador = linha[58:68]\n",
    "matricCobrador = linha[68:78]\n",
    "codLinhaDetalhe = linha[78:82]\n",
    "codLinhaPrincipal = linha[82:88]\n",
    "codSecao = linha[88:91]\n",
    "sentido = linha[91:94]\n",
    "turno = linha[94:95]\n",
    "assinatura = linha[95:100]\n",
    "\n",
    "\n",
    "\n",
    "\n",
    "\n",
    "estadoServico = {'001': 'Fechado', \n",
    "                 '002': 'Liberado', \n",
    "                 '003': 'Ocioso',\n",
    "                 '004': 'Placa',\n",
    "                 '005': 'Comercial'}\n",
    "\n",
    "empresas = {'006': 'Flores',\n",
    "            '010': 'Real Rio',\n",
    "            '017': 'Rio dOuro',\n",
    "            '025': 'Mageli',\n",
    "            '027': 'Beira Mar'}\n",
    "\n",
    "def converte_juliana_bil002(data):\n",
    "    curr_date = \"31/12/2002\"\n",
    "    curr_date_temp = datetime.strptime(curr_date, \"%d/%m/%Y\")\n",
    "    new_date = curr_date_temp + timedelta(days=int(data))\n",
    "    format_date = new_date.strftime(\"%d/%m/%Y\")\n",
    "    return format_date\n",
    "\n",
    "def convert_hora(hora):\n",
    "    return time.strftime(\"%H:%M:%S\", time.gmtime(int(hora)))\n",
    "\n",
    "\n",
    "print(\"Data = \" + converte_juliana_bil002(data))\n",
    "print(\"Empresa = \" + empresas[codEmpresa])\n",
    "print(\"Estado do Serviço = \" + estadoServico[estServico])\n",
    "print(\"Hora = \" + convert_hora(hora))\n",
    "print(\"Numero do onibus = \" + numOnibus)\n",
    "print(\"Matricula do motorista = \" + matricMotorista)\n",
    "print(\"Codigo Motorista Prodata = \" + codMotProdata)\n",
    "print(\"Turno = \" + turno)\n",
    "print(\"Sentido = \" + sentido)"
   ]
  },
  {
   "cell_type": "code",
   "execution_count": null,
   "id": "b5af0839",
   "metadata": {},
   "outputs": [],
   "source": []
  }
 ],
 "metadata": {
  "kernelspec": {
   "display_name": "Python 3 (ipykernel)",
   "language": "python",
   "name": "python3"
  },
  "language_info": {
   "codemirror_mode": {
    "name": "ipython",
    "version": 3
   },
   "file_extension": ".py",
   "mimetype": "text/x-python",
   "name": "python",
   "nbconvert_exporter": "python",
   "pygments_lexer": "ipython3",
   "version": "3.11.5"
  }
 },
 "nbformat": 4,
 "nbformat_minor": 5
}
