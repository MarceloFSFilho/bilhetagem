{
 "cells": [
  {
   "cell_type": "code",
   "execution_count": 19,
   "id": "fc84b7fc",
   "metadata": {},
   "outputs": [
    {
     "name": "stdout",
     "output_type": "stream",
     "text": [
      "==================================================\n",
      "Data = 22/08/2027\n"
     ]
    },
    {
     "ename": "KeyError",
     "evalue": "'629'",
     "output_type": "error",
     "traceback": [
      "\u001b[1;31m---------------------------------------------------------------------------\u001b[0m",
      "\u001b[1;31mKeyError\u001b[0m                                  Traceback (most recent call last)",
      "Cell \u001b[1;32mIn[19], line 67\u001b[0m\n\u001b[0;32m     65\u001b[0m \u001b[38;5;28mprint\u001b[39m(\u001b[38;5;124m\"\u001b[39m\u001b[38;5;124m==================================================\u001b[39m\u001b[38;5;124m\"\u001b[39m)\n\u001b[0;32m     66\u001b[0m \u001b[38;5;28mprint\u001b[39m(\u001b[38;5;124m\"\u001b[39m\u001b[38;5;124mData = \u001b[39m\u001b[38;5;124m\"\u001b[39m \u001b[38;5;241m+\u001b[39m converte_juliana_bil002(data))\n\u001b[1;32m---> 67\u001b[0m \u001b[38;5;28mprint\u001b[39m(\u001b[38;5;124m\"\u001b[39m\u001b[38;5;124mEmpresa = \u001b[39m\u001b[38;5;124m\"\u001b[39m \u001b[38;5;241m+\u001b[39m empresas[codEmpresa])\n\u001b[0;32m     68\u001b[0m \u001b[38;5;28mprint\u001b[39m(\u001b[38;5;124m\"\u001b[39m\u001b[38;5;124mEstado do Serviço = \u001b[39m\u001b[38;5;124m\"\u001b[39m \u001b[38;5;241m+\u001b[39m estadoServico[estServico])\n\u001b[0;32m     69\u001b[0m \u001b[38;5;28mprint\u001b[39m(\u001b[38;5;124m\"\u001b[39m\u001b[38;5;124mHora = \u001b[39m\u001b[38;5;124m\"\u001b[39m \u001b[38;5;241m+\u001b[39m convert_hora(hora))\n",
      "\u001b[1;31mKeyError\u001b[0m: '629'"
     ]
    }
   ],
   "source": [
    "from datetime import date, timedelta, datetime\n",
    "from pathlib import Path\n",
    "import time\n",
    "from buscaLinhas import busca_linha\n",
    "from mudaEstadoServico import mudaEstadoServico\n",
    "caminho = 'C:/Users/marcelo.francisco/Desktop/reader'\n",
    "pasta = Path(caminho).iterdir()\n",
    "#caminho = Path('Y:/v3lan/IMPORTACAO/HG/UD_202310/UD_20231025/BKP - BILHETAGEM')\n",
    "\n",
    "#dat_atual = datetime.now().strftime('%d/%m/%Y')\n",
    "#caminho_arq = Path('Y:/v3lan/IMPORTACAO/HG/' + 'UD_' + f\"{dat_atual:%Y%m}\" + '/' + 'UD_' + f\"{dat_atual:%Y%m%d}\")\n",
    "\n",
    "\n",
    "estadoServico = {'001': 'Fechado', \n",
    "                 '002': 'Liberado', \n",
    "                 '003': 'Ocioso',\n",
    "                 '004': 'Placa',\n",
    "                 '005': 'Comercial'}\n",
    "\n",
    "empresas = {'006': 'Flores',\n",
    "            '010': 'Real Rio',\n",
    "            '017': 'Rio dOuro',\n",
    "            '025': 'Mageli',\n",
    "            '027': 'Beira Mar'}\n",
    "\n",
    "\n",
    "def converte_juliana_bil002(data):\n",
    "    curr_date = \"31/12/2002\"\n",
    "    curr_date_temp = datetime.strptime(curr_date, \"%d/%m/%Y\")\n",
    "    new_date = curr_date_temp + timedelta(days=int(data))\n",
    "    format_date = new_date.strftime(\"%d/%m/%Y\")\n",
    "    return format_date\n",
    "\n",
    "def convert_hora(hora):\n",
    "    return time.strftime(\"%H:%M:%S\", time.gmtime(int(hora)))\n",
    "\n",
    "for i in pasta:\n",
    "    f = open (i)\n",
    "\n",
    "\n",
    "conteudo = f.readlines()\n",
    "for linha in conteudo:    \n",
    "    if linha[0:3] == '001':\n",
    "        for linha in conteudo:      \n",
    "            tipoRegistro = linha[:3]\n",
    "            versaoRegistro = linha[3:6]\n",
    "            codEmpresa = linha[6:9]\n",
    "            numOnibus = linha[14:19]\n",
    "            estServico = linha[19:22]\n",
    "            data = linha[22:27]\n",
    "            hora = linha[27:32]\n",
    "            codEmpMotorista = linha[32:35]\n",
    "            codMotProdata = linha[35:45]\n",
    "            matricMotorista = linha[45:55]\n",
    "            codEmpCobrador = linha[55:58]\n",
    "            codProdCobrador = linha[58:68]\n",
    "            matricCobrador = linha[68:78]\n",
    "            codLinhaDetalhe = linha[78:82]\n",
    "            codLinhaPrincipal = linha[82:88]\n",
    "            codSecao = linha[88:91]\n",
    "            sentido = linha[91:94]\n",
    "            turno = linha[94:95]\n",
    "            assinatura = linha[95:100]\n",
    "            \n",
    "        print(\"==================================================\")\n",
    "        print(\"Data = \" + converte_juliana_bil002(data))\n",
    "        print(\"Empresa = \" + empresas[codEmpresa])\n",
    "        print(\"Estado do Serviço = \" + estadoServico[estServico])\n",
    "        print(\"Hora = \" + convert_hora(hora))\n",
    "        print(\"Numero do onibus = \" + numOnibus)\n",
    "        print(\"Matricula do motorista = \" + matricMotorista)\n",
    "        print(\"Codigo Motorista Prodata = \" + codMotProdata)\n",
    "        print(\"Turno = \" + turno)\n",
    "        print(\"Sentido = \" + sentido)\n",
    "        print(\"Linha = \" + busca_linha(int(codLinhaDetalhe)))\n",
    "    \n",
    "\n"
   ]
  },
  {
   "cell_type": "code",
   "execution_count": null,
   "id": "69423eef",
   "metadata": {},
   "outputs": [],
   "source": []
  }
 ],
 "metadata": {
  "kernelspec": {
   "display_name": "Python 3 (ipykernel)",
   "language": "python",
   "name": "python3"
  },
  "language_info": {
   "codemirror_mode": {
    "name": "ipython",
    "version": 3
   },
   "file_extension": ".py",
   "mimetype": "text/x-python",
   "name": "python",
   "nbconvert_exporter": "python",
   "pygments_lexer": "ipython3",
   "version": "3.11.4"
  }
 },
 "nbformat": 4,
 "nbformat_minor": 5
}
