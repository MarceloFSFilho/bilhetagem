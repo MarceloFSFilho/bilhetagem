{
 "cells": [
  {
   "cell_type": "code",
   "execution_count": null,
   "id": "776f3e4a",
   "metadata": {},
   "outputs": [],
   "source": [
    "#Mudaca de Estado de Servico\n",
    "from datetime import date, timedelta, datetime\n",
    "import time\n",
    "\n",
    "\n"
   ]
  },
  {
   "cell_type": "code",
   "execution_count": null,
   "id": "2604ad5d",
   "metadata": {},
   "outputs": [],
   "source": [
    "linha = input()\n",
    "tipoRegistro = linha[0:3]\n",
    "versaoRegistro = linha[3:6]\n",
    "codigoEmpresa = linha[6:9]\n",
    "\n",
    "\n",
    "\n",
    "\n",
    "\n",
    "\n",
    "estadoServico = {1: 'fechado',\n",
    "                 2:'liberado',\n",
    "                 3: 'ocioso',\n",
    "                 4:'placa',\n",
    "                 5: 'comercial'\n",
    "                 }\n",
    "\n",
    "def converte_juliana_bil002(data):\n",
    "    curr_date = \"31/12/2002\"\n",
    "    curr_date_temp = datetime.strptime(curr_date, \"%d/%m/%Y\")\n",
    "    new_date = curr_date_temp + timedelta(days=int(data))\n",
    "    format_date = new_date.strftime(\"%d/%m/%Y\")\n",
    "    return format_date\n",
    "def convert_hora(segundos):\n",
    "    return time.strftime(\"%H:%M:%S\", time.gmtime(segundos))\n",
    "\n",
    "print(converte_juliana_bil002(7596))\n",
    "print(convert_hora(80436))\n",
    "print(tipoRegistro)\n",
    "print(codigoEmpresa)\n",
    "print(estadoServico[2])"
   ]
  },
  {
   "cell_type": "code",
   "execution_count": null,
   "id": "73a2aac5",
   "metadata": {},
   "outputs": [],
   "source": []
  }
 ],
 "metadata": {
  "kernelspec": {
   "display_name": "Python 3 (ipykernel)",
   "language": "python",
   "name": "python3"
  },
  "language_info": {
   "codemirror_mode": {
    "name": "ipython",
    "version": 3
   },
   "file_extension": ".py",
   "mimetype": "text/x-python",
   "name": "python",
   "nbconvert_exporter": "python",
   "pygments_lexer": "ipython3",
   "version": "3.11.5"
  }
 },
 "nbformat": 4,
 "nbformat_minor": 5
}
