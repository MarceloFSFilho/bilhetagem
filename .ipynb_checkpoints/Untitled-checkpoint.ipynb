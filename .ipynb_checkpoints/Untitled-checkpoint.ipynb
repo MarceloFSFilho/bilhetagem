{
 "cells": [
  {
   "cell_type": "code",
   "execution_count": 8,
   "id": "8f39ce66",
   "metadata": {},
   "outputs": [
    {
     "name": "stdout",
     "output_type": "stream",
     "text": [
      "28109\n"
     ]
    }
   ],
   "source": [
    "from datetime import date, timedelta, datetime\n",
    "from pathlib import Path\n",
    "import time\n",
    "from buscaLinhas import busca_linha\n",
    "from mudaEstadoServico import mudaEstadoServico\n",
    "import pandas as pd\n",
    "\n",
    "\n",
    "caminho = 'C:/Users/marcelo.francisco/Desktop/reader'\n",
    "pasta = Path(caminho).iterdir()\n",
    "#caminho = Path('Y:/v3lan/IMPORTACAO/HG/UD_202310/UD_20231025/BKP - BILHETAGEM')\n",
    "\n",
    "#dat_atual = datetime.now().strftime('%d/%m/%Y')\n",
    "#caminho_arq = Path('Y:/v3lan/IMPORTACAO/HG/' + 'UD_' + f\"{dat_atual:%Y%m}\" + '/' + 'UD_' + f\"{dat_atual:%Y%m%d}\")\n",
    "\n",
    "\n",
    "estadoServico = {'001': 'Fechado', \n",
    "                 '002': 'Liberado', \n",
    "                 '003': 'Ocioso',\n",
    "                 '004': 'Placa',\n",
    "                 '005': 'Comercial'}\n",
    "\n",
    "empresas = {'006': 'Flores',\n",
    "            '010': 'Real Rio',\n",
    "            '017': 'Rio dOuro',\n",
    "            '025': 'Mageli',\n",
    "            '027': 'Beira Mar'}\n",
    "\n",
    "\n",
    "def converte_juliana_bil002(data):\n",
    "    curr_date = \"31/12/2002\"\n",
    "    curr_date_temp = datetime.strptime(curr_date, \"%d/%m/%Y\")\n",
    "    new_date = curr_date_temp + timedelta(days=int(data))\n",
    "    format_date = new_date.strftime(\"%d/%m/%Y\")\n",
    "    return format_date\n",
    "\n",
    "def convert_hora(hora):\n",
    "    return time.strftime(\"%H:%M:%S\", time.gmtime(int(hora)))\n",
    "\n",
    "for i in pasta:\n",
    "    f = open (i, 'r')\n",
    "    conteudo = f.readlines()\n",
    "    for linha in conteudo:\n",
    "        if linha[0:3] == '001':\n",
    "            dados = ([linha[:3], linha[3:6], linha[6:9],\n",
    "                    linha[14:19], linha[19:22], linha[22:27],\n",
    "                    linha[27:32], linha[32:35], linha[35:45],\n",
    "                    linha[45:55], linha[55:58], linha[58:68],\n",
    "                    linha[68:78], linha[78:82], linha[82:88],\n",
    "                    linha[88:91], linha[91:94], linha[94:95],\n",
    "                    linha[95:100]])\n",
    "\n",
    "            \n",
    "\n",
    "\n",
    "\n",
    "\n"
   ]
  },
  {
   "cell_type": "code",
   "execution_count": null,
   "id": "391e2371",
   "metadata": {},
   "outputs": [],
   "source": []
  }
 ],
 "metadata": {
  "kernelspec": {
   "display_name": "Python 3 (ipykernel)",
   "language": "python",
   "name": "python3"
  },
  "language_info": {
   "codemirror_mode": {
    "name": "ipython",
    "version": 3
   },
   "file_extension": ".py",
   "mimetype": "text/x-python",
   "name": "python",
   "nbconvert_exporter": "python",
   "pygments_lexer": "ipython3",
   "version": "3.11.4"
  }
 },
 "nbformat": 4,
 "nbformat_minor": 5
}
